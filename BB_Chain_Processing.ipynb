{
 "cells": [
  {
   "cell_type": "code",
   "execution_count": 11,
   "metadata": {},
   "outputs": [],
   "source": [
    "import pandas as pd\n",
    "import re"
   ]
  },
  {
   "cell_type": "code",
   "execution_count": 117,
   "metadata": {},
   "outputs": [],
   "source": [
    "df=pd.read_csv(\"data/Daily_opt_prices17_18/FORD_opt_prices17.csv\") "
   ]
  },
  {
   "cell_type": "code",
   "execution_count": 118,
   "metadata": {},
   "outputs": [],
   "source": [
    "# extract expiry\n",
    "def get_contract_info(str_):\n",
    "    m=re.search(\"([0-9]{2}\\/[0-9]{2}\\/[0-9]{2})\", str_)\n",
    "    expiry=m.group(0)\n",
    "    # extract strike\n",
    "    # extract call/put\n",
    "    m=re.search(\"([CP][0-9]+)\", str_)\n",
    "    strike=m.group(0)[1:]\n",
    "    otype = m.group(0)[0]\n",
    "    symbol = re.split(' ', str_)[0]\n",
    "    return(symbol, otype, strike, expiry)"
   ]
  },
  {
   "cell_type": "code",
   "execution_count": 120,
   "metadata": {},
   "outputs": [],
   "source": [
    "df_new=pd.DataFrame(columns=['date','symbol', 'otype', 'strike', 'expiry','ptype','price'])\n",
    "\n",
    "for i in range(len(df)):\n",
    "  (symbol, otype, strike, expiry)= get_contract_info(df['Unnamed: 0'][i])\n",
    "  #print(symbol, otype, strike, expiry)\n",
    "  #map columns to dates\n",
    "  for key in df.keys()[2:]:\n",
    "    m=re.search(\"([0-9]{8})\",key)\n",
    "    date=m.group(0)\n",
    "    m=re.split('_',key)\n",
    "    ptype=m[-1]\n",
    "    price=df[key][i]\n",
    "    #print(symbol, otype, strike, expiry, date,ptype,price)\n",
    "    lst = [date, symbol, otype, strike, expiry,ptype,price]\n",
    "    df_=pd.DataFrame([lst], columns=['date','symbol', 'otype', 'strike', 'expiry','ptype','price'])\n",
    "    #print(df_)\n",
    "    df_new=df_new.append(df_)\n",
    "    #print(df_new.head())"
   ]
  },
  {
   "cell_type": "code",
   "execution_count": 121,
   "metadata": {},
   "outputs": [],
   "source": [
    "df=pd.read_csv(\"data/Daily_opt_prices17_18/FORD_opt_prices18.csv\") "
   ]
  },
  {
   "cell_type": "code",
   "execution_count": 122,
   "metadata": {},
   "outputs": [],
   "source": [
    "for i in range(len(df)):\n",
    "  (symbol, otype, strike, expiry)= get_contract_info(df['Unnamed: 0'][i])\n",
    "  #print(symbol, otype, strike, expiry)\n",
    "  #map columns to dates\n",
    "  for key in df.keys()[2:]:\n",
    "    m=re.search(\"([0-9]{8})\",key)\n",
    "    date=m.group(0)\n",
    "    m=re.split('_',key)\n",
    "    ptype=m[-1]\n",
    "    price=df[key][i]\n",
    "    #print(symbol, otype, strike, expiry, date,ptype,price)\n",
    "    lst = [date, symbol, otype, strike, expiry,ptype,price]\n",
    "    df_=pd.DataFrame([lst], columns=['date','symbol', 'otype', 'strike', 'expiry','ptype','price']) \n",
    "    df_new=df_new.append(df_)\n",
    "    #print(df_new.head())"
   ]
  },
  {
   "cell_type": "code",
   "execution_count": 116,
   "metadata": {},
   "outputs": [],
   "source": [
    "df_new.to_csv('FORD.csv')"
   ]
  },
  {
   "cell_type": "code",
   "execution_count": null,
   "metadata": {},
   "outputs": [],
   "source": []
  }
 ],
 "metadata": {
  "kernelspec": {
   "display_name": "Python 3",
   "language": "python",
   "name": "python3"
  },
  "language_info": {
   "codemirror_mode": {
    "name": "ipython",
    "version": 3
   },
   "file_extension": ".py",
   "mimetype": "text/x-python",
   "name": "python",
   "nbconvert_exporter": "python",
   "pygments_lexer": "ipython3",
   "version": "3.6.5"
  }
 },
 "nbformat": 4,
 "nbformat_minor": 2
}
